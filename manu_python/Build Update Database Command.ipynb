{
 "cells": [
  {
   "cell_type": "code",
   "execution_count": 11,
   "id": "8afd65b6",
   "metadata": {
    "ExecuteTime": {
     "end_time": "2022-09-17T11:54:58.416358Z",
     "start_time": "2022-09-17T11:54:58.402084Z"
    },
    "pycharm": {
     "name": "#%%\n"
    }
   },
   "outputs": [],
   "source": [
    "# NEW_DATABASE_SQL_FILE_PATH = \"/Users/ofriedler/Dropbox/Work/Consultation/Manufuture/dev/mfpussla_up2_feb_2022.sql\"\n",
    "NEW_DATABASE_SQL_FILE_PATH = \"/Users/ofriedler/Dropbox/Work/Consultation/Manufuture/dev/mf-prod-db-280822.sql\"\n",
    "\n",
    "COMMAND = \"mysql -u root -p manufuture < \" + NEW_DATABASE_SQL_FILE_PATH"
   ]
  },
  {
   "cell_type": "code",
   "execution_count": 12,
   "id": "93fba5c5",
   "metadata": {
    "ExecuteTime": {
     "end_time": "2022-09-17T11:54:58.739630Z",
     "start_time": "2022-09-17T11:54:58.730808Z"
    },
    "pycharm": {
     "name": "#%%\n"
    }
   },
   "outputs": [
    {
     "name": "stdout",
     "output_type": "stream",
     "text": [
      "mysql -u root -p manufuture < /Users/ofriedler/Dropbox/Work/Consultation/Manufuture/dev/mf-prod-db-280822.sql\n"
     ]
    }
   ],
   "source": [
    "print(COMMAND)"
   ]
  }
 ],
 "metadata": {
  "kernelspec": {
   "display_name": "Python 3 (ipykernel)",
   "language": "python",
   "name": "python3"
  },
  "language_info": {
   "codemirror_mode": {
    "name": "ipython",
    "version": 3
   },
   "file_extension": ".py",
   "mimetype": "text/x-python",
   "name": "python",
   "nbconvert_exporter": "python",
   "pygments_lexer": "ipython3",
   "version": "3.9.7"
  },
  "varInspector": {
   "cols": {
    "lenName": 16,
    "lenType": 16,
    "lenVar": 40
   },
   "kernels_config": {
    "python": {
     "delete_cmd_postfix": "",
     "delete_cmd_prefix": "del ",
     "library": "var_list.py",
     "varRefreshCmd": "print(var_dic_list())"
    },
    "r": {
     "delete_cmd_postfix": ") ",
     "delete_cmd_prefix": "rm(",
     "library": "var_list.r",
     "varRefreshCmd": "cat(var_dic_list()) "
    }
   },
   "types_to_exclude": [
    "module",
    "function",
    "builtin_function_or_method",
    "instance",
    "_Feature"
   ],
   "window_display": false
  }
 },
 "nbformat": 4,
 "nbformat_minor": 5
}