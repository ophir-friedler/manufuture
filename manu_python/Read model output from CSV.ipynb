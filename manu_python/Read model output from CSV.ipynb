{
 "cells": [
  {
   "cell_type": "markdown",
   "metadata": {},
   "source": [
    "# Link to model data"
   ]
  },
  {
   "cell_type": "code",
   "execution_count": 1,
   "metadata": {
    "ExecuteTime": {
     "end_time": "2023-04-29T20:55:45.843261Z",
     "start_time": "2023-04-29T20:55:45.837134Z"
    }
   },
   "outputs": [],
   "source": [
    "# MODEL_GS_PATH = 'https://docs.google.com/spreadsheets/d/1KlB8j2anicSQqyjb2zxlwZdeWQzzPEPDL3E-EN6v9Og/edit#gid=1077659030' \n",
    "# MODEL_GS_PATH = 'https://docs.google.com/spreadsheets/d/1w_TtHk6qSO4IOmU-nnzL9E_M8-kf0aMkf18_69v2vLw/edit#gid=2122041918'\n",
    "MODEL_GS_PATH = 'https://docs.google.com/spreadsheets/d/1KzTHQ-iw8gn2qml3C0FMAY9CBBgPwxL_a88A4UDy6Ls/edit#gid=1701371459' # num_distinct_parts_binned, total_quantity_of_parts_binned\n",
    "\n",
    "\n"
   ]
  },
  {
   "cell_type": "markdown",
   "metadata": {},
   "source": [
    "# Support functions"
   ]
  },
  {
   "cell_type": "code",
   "execution_count": 2,
   "metadata": {
    "ExecuteTime": {
     "end_time": "2023-04-29T20:55:46.714045Z",
     "start_time": "2023-04-29T20:55:45.845293Z"
    },
    "pycharm": {
     "name": "#%%\n"
    }
   },
   "outputs": [],
   "source": [
    "# Support code\n",
    "import pandas as pd\n",
    "import ipywidgets as widgets\n",
    "from IPython.display import display, clear_output\n",
    "from datetime import datetime\n",
    "\n",
    "MODEL_GS_CSV_PATH = MODEL_GS_PATH.replace('/edit#gid=', '/export?format=csv&gid=')\n",
    "\n",
    "model_df = None\n",
    "unique_values = {}\n",
    "\n",
    "all_widgets_dict = {}\n",
    "out = widgets.Output()\n",
    "\n",
    "def prepare_data(): \n",
    "    model_df = pd.read_csv(MODEL_GS_CSV_PATH)\n",
    "    model_columns = list(model_df.columns)\n",
    "    project_features = model_columns[:model_columns.index('separator')]\n",
    "#     manufacturer_details = model_columns[model_columns.index('separator')+1:]\n",
    "    for column in project_features:\n",
    "        unique_values[column] = list(model_df[column].unique())\n",
    "    # print(unique_values)\n",
    "    return model_df, unique_values\n",
    "\n",
    "def get_recs():\n",
    "    criteria_idx = True\n",
    "    for key in unique_values.keys():\n",
    "#         print(str(key) + ' = ' + str(all_widgets_dict[key].value))\n",
    "        criteria_idx = criteria_idx & (model_df[key] == all_widgets_dict[key].value)\n",
    "    return model_df[criteria_idx]    \n",
    "    \n",
    "def on_get_recs_button_clicked(b):\n",
    "    with out:\n",
    "        clear_output()\n",
    "        display(get_recs())\n",
    "        now = datetime.now()\n",
    "        current_time = now.strftime(\"%H:%M:%S\")\n",
    "        print(\"New hello from each button click!. This hello from {}.\".format(current_time))\n",
    "\n",
    "def open_view():    \n",
    "    all_widgets_dict = {}\n",
    "    for key in unique_values.keys():   \n",
    "        all_widgets_dict[key] = widgets.Dropdown(\n",
    "            style={'description_width': 'initial'},\n",
    "            options=unique_values[key],\n",
    "            value=unique_values[key][0],\n",
    "            description=key,\n",
    "            disabled=False,\n",
    "        )\n",
    "    all_widgets_dict['get_recs_button'] = widgets.Button(description=\"Get recs\")\n",
    "    all_widgets_dict['get_recs_button'].on_click(on_get_recs_button_clicked)\n",
    "    all_widgets = widgets.VBox(list(all_widgets_dict.values()))\n",
    "    return all_widgets_dict, all_widgets\n",
    "\n",
    "def show_get_recs_button(all_recs_button):\n",
    "    display(out)\n",
    "    display(all_recs_button)"
   ]
  },
  {
   "cell_type": "markdown",
   "metadata": {
    "pycharm": {
     "name": "#%% md\n"
    }
   },
   "source": [
    "## Read CSV "
   ]
  },
  {
   "cell_type": "code",
   "execution_count": 3,
   "metadata": {
    "ExecuteTime": {
     "end_time": "2023-04-29T20:55:50.847514Z",
     "start_time": "2023-04-29T20:55:46.715116Z"
    }
   },
   "outputs": [],
   "source": [
    "model_df, unique_values = prepare_data()"
   ]
  },
  {
   "cell_type": "markdown",
   "metadata": {},
   "source": [
    "# Get recommendations"
   ]
  },
  {
   "cell_type": "code",
   "execution_count": 4,
   "metadata": {
    "ExecuteTime": {
     "end_time": "2023-04-29T20:55:50.882032Z",
     "start_time": "2023-04-29T20:55:50.849207Z"
    }
   },
   "outputs": [
    {
     "data": {
      "application/vnd.jupyter.widget-view+json": {
       "model_id": "29fad4b23c16462bbc7c5fa3dbd46ea4",
       "version_major": 2,
       "version_minor": 0
      },
      "text/plain": [
       "VBox(children=(Dropdown(description='req_turning', options=(0, 1), style=DescriptionStyle(description_width='i…"
      ]
     },
     "metadata": {},
     "output_type": "display_data"
    }
   ],
   "source": [
    "all_widgets_dict, all_widgets = open_view()\n",
    "all_widgets"
   ]
  },
  {
   "cell_type": "code",
   "execution_count": 5,
   "metadata": {
    "ExecuteTime": {
     "end_time": "2023-04-29T20:55:50.885960Z",
     "start_time": "2023-04-29T20:55:50.883182Z"
    }
   },
   "outputs": [
    {
     "data": {
      "application/vnd.jupyter.widget-view+json": {
       "model_id": "57d5e0d5a9494524b53ecedf1ff8533a",
       "version_major": 2,
       "version_minor": 0
      },
      "text/plain": [
       "Output()"
      ]
     },
     "metadata": {},
     "output_type": "display_data"
    }
   ],
   "source": [
    "display(out)"
   ]
  }
 ],
 "metadata": {
  "kernelspec": {
   "display_name": "Python 3 (ipykernel)",
   "language": "python",
   "name": "python3"
  },
  "language_info": {
   "codemirror_mode": {
    "name": "ipython",
    "version": 3
   },
   "file_extension": ".py",
   "mimetype": "text/x-python",
   "name": "python",
   "nbconvert_exporter": "python",
   "pygments_lexer": "ipython3",
   "version": "3.9.7"
  },
  "varInspector": {
   "cols": {
    "lenName": 16,
    "lenType": 16,
    "lenVar": 40
   },
   "kernels_config": {
    "python": {
     "delete_cmd_postfix": "",
     "delete_cmd_prefix": "del ",
     "library": "var_list.py",
     "varRefreshCmd": "print(var_dic_list())"
    },
    "r": {
     "delete_cmd_postfix": ") ",
     "delete_cmd_prefix": "rm(",
     "library": "var_list.r",
     "varRefreshCmd": "cat(var_dic_list()) "
    }
   },
   "types_to_exclude": [
    "module",
    "function",
    "builtin_function_or_method",
    "instance",
    "_Feature"
   ],
   "window_display": false
  }
 },
 "nbformat": 4,
 "nbformat_minor": 4
}
