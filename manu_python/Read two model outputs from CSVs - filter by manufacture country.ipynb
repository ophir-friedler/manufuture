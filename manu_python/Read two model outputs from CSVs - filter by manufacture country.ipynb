{
 "cells": [
  {
   "cell_type": "markdown",
   "metadata": {},
   "source": [
    "# Link to model data"
   ]
  },
  {
   "cell_type": "code",
   "execution_count": 1,
   "metadata": {
    "ExecuteTime": {
     "end_time": "2023-05-18T08:38:52.422366Z",
     "start_time": "2023-05-18T08:38:52.412411Z"
    }
   },
   "outputs": [],
   "source": [
    "MODEL_A_GS_PATH = 'https://docs.google.com/spreadsheets/d/1KF1sLGA6D8sV6ckvpdsDrpVB9pfgPOSWW2qSzyG_zhQ/edit#gid=461085463'\n",
    "MODEL_B_GS_PATH = 'https://docs.google.com/spreadsheets/d/1Xi1gQyf7hWSjmOvsf1My08YP5qaOM55D5kTfC0E_r2o/edit#gid=1989900327'\n",
    "MAX_NUM_RECS = 20\n"
   ]
  },
  {
   "cell_type": "markdown",
   "metadata": {},
   "source": [
    "# Support functions"
   ]
  },
  {
   "cell_type": "code",
   "execution_count": 2,
   "metadata": {
    "ExecuteTime": {
     "end_time": "2023-05-18T08:38:53.762935Z",
     "start_time": "2023-05-18T08:38:52.424635Z"
    },
    "pycharm": {
     "name": "#%%\n"
    }
   },
   "outputs": [],
   "source": [
    "# Support code\n",
    "import pandas as pd\n",
    "import ipywidgets as widgets\n",
    "from IPython.display import display, clear_output\n",
    "from datetime import datetime\n",
    "\n",
    "MODEL_A_GS_CSV_PATH = MODEL_A_GS_PATH.replace('/edit#gid=', '/export?format=csv&gid=')\n",
    "MODEL_B_GS_CSV_PATH = MODEL_B_GS_PATH.replace('/edit#gid=', '/export?format=csv&gid=')\n",
    "\n",
    "model_a_df = None\n",
    "model_b_df = None\n",
    "\n",
    "unique_values_project_features = {}\n",
    "unique_values_manufacture = {}\n",
    "\n",
    "all_widgets_dict = {}\n",
    "out = widgets.Output()\n",
    "\n",
    "def get_project_features(model_df): \n",
    "    model_columns = list(model_df.columns)\n",
    "    return model_columns[:model_columns.index('separator')]\n",
    "\n",
    "def get_ranking_columns(model_df):\n",
    "    model_columns = list(model_df.columns)\n",
    "    return model_columns[model_columns.index('separator')+1:]\n",
    "    \n",
    "    \n",
    "    \n",
    "def prepare_data(): \n",
    "    model_a_df = pd.read_csv(MODEL_A_GS_CSV_PATH).fillna('')\n",
    "    model_b_df = pd.read_csv(MODEL_B_GS_CSV_PATH).fillna('')\n",
    "    model_a_columns = list(model_a_df.columns)\n",
    "    model_b_columns = list(model_b_df.columns)\n",
    "    # Validate same columns\n",
    "    if not set(model_a_columns) == set(model_b_columns):\n",
    "        print(\"ERROR: models don't have the same features: \")\n",
    "        print(\"Model A: \" + str(set(model_a_columns)))\n",
    "        print(\"Model B: \" + str(set(model_b_columns)))\n",
    "        return None\n",
    "    \n",
    "    project_features = get_project_features(model_a_df)\n",
    "\n",
    "#     manufacturer_details = model_a_columns[model_a_columns.index('separator')+1:]\n",
    "    for column in project_features:\n",
    "        if set(model_a_df[column].unique()) != set(model_b_df[column].unique()):\n",
    "            print(\"ERROR: column \" + str(column) + \" values in model A is different from model B\")\n",
    "            return None\n",
    "        unique_values_project_features[column] = list(model_a_df[column].unique())\n",
    "    unique_values_manufacture['manufacture_country'] = list(set(model_a_df['manufacture_country'].unique()).union(set(model_b_df['manufacture_country'].unique())))\n",
    "    # print(unique_values_project_features)\n",
    "    return model_a_df, model_b_df, unique_values_project_features\n",
    "\n",
    "def get_recs():\n",
    "#     criteria_idx = True\n",
    "    criteria_idx_a = True\n",
    "    criteria_idx_b = True\n",
    "    for key in unique_values_project_features.keys():\n",
    "#         print(str(key) + ' = ' + str(all_widgets_dict[key].value))\n",
    "        criteria_idx_a = criteria_idx_a & (model_a_df[key] == all_widgets_dict[key].value)\n",
    "        criteria_idx_b = criteria_idx_b & (model_b_df[key] == all_widgets_dict[key].value)\n",
    "    \n",
    "    criteria_idx_a = criteria_idx_a & model_a_df['manufacture_country'].isin(all_widgets_dict['manufacture_country'].value)\n",
    "    criteria_idx_b = criteria_idx_b & model_b_df['manufacture_country'].isin(all_widgets_dict['manufacture_country'].value)\n",
    "    for key in all_widgets_dict.keys():\n",
    "        if hasattr(all_widgets_dict[key], 'value'):\n",
    "            print(str(key) + \":\" + str(all_widgets_dict[key].value))\n",
    "    ret_a_df = model_a_df[criteria_idx_a][['manufacturer_name', 'post_id_manuf', 'manufacture_country', 'predBidProb']]\n",
    "    ret_b_df = model_b_df[criteria_idx_b][['manufacturer_name', 'post_id_manuf', 'manufacture_country', 'predBidProb']]\n",
    "    \n",
    "    return ret_a_df.head(MAX_NUM_RECS), ret_b_df.head(MAX_NUM_RECS)\n",
    "    \n",
    "def on_get_recs_button_clicked(b):\n",
    "    with out:\n",
    "        clear_output()\n",
    "        ret_a_df, ret_b_df = get_recs()\n",
    "        print(\"\")\n",
    "        print(\"Model A: \")\n",
    "        display(ret_a_df)\n",
    "        print(\"\")\n",
    "        print(\"Model B: \")\n",
    "        display(ret_b_df)\n",
    "        now = datetime.now()\n",
    "        current_time = now.strftime(\"%H:%M:%S\")\n",
    "        print(\"Last button click: {}.\".format(current_time))\n",
    "\n",
    "def open_view():    \n",
    "    all_widgets_dict = {}\n",
    "    for key in unique_values_project_features.keys():   \n",
    "        all_widgets_dict[key] = widgets.Dropdown(\n",
    "            style={'description_width': 'initial'},\n",
    "            options=unique_values_project_features[key],\n",
    "            value=unique_values_project_features[key][0],\n",
    "            description=key,\n",
    "            disabled=False,\n",
    "        )\n",
    "        all_widgets_dict['manufacture_country'] = widgets.SelectMultiple(\n",
    "            options=unique_values_manufacture['manufacture_country'],\n",
    "            value=[],\n",
    "            #rows=10,\n",
    "            description='manufacture_country',\n",
    "            disabled=False, \n",
    "            style = {'description_width': '140px'}\n",
    "        )\n",
    "\n",
    "        \n",
    "        \n",
    "    all_widgets_dict['get_recs_button'] = widgets.Button(description=\"Get recs\")\n",
    "    all_widgets_dict['get_recs_button'].on_click(on_get_recs_button_clicked)\n",
    "    all_widgets = widgets.VBox(list(all_widgets_dict.values()))\n",
    "    return all_widgets_dict, all_widgets\n",
    "\n",
    "def show_get_recs_button(all_recs_button):\n",
    "    display(out)\n",
    "    display(all_recs_button)"
   ]
  },
  {
   "cell_type": "markdown",
   "metadata": {
    "pycharm": {
     "name": "#%% md\n"
    }
   },
   "source": [
    "## Read CSV "
   ]
  },
  {
   "cell_type": "code",
   "execution_count": 3,
   "metadata": {
    "ExecuteTime": {
     "end_time": "2023-05-18T08:39:04.592235Z",
     "start_time": "2023-05-18T08:38:53.763963Z"
    }
   },
   "outputs": [],
   "source": [
    "model_a_df, model_b_df, unique_values_project_features = prepare_data()"
   ]
  },
  {
   "cell_type": "markdown",
   "metadata": {},
   "source": [
    "# Get recommendations"
   ]
  },
  {
   "cell_type": "code",
   "execution_count": 4,
   "metadata": {
    "ExecuteTime": {
     "end_time": "2023-05-18T08:39:04.649648Z",
     "start_time": "2023-05-18T08:39:04.594022Z"
    }
   },
   "outputs": [
    {
     "data": {
      "application/vnd.jupyter.widget-view+json": {
       "model_id": "cab62f83338a4e5482624e8de3f3c322",
       "version_major": 2,
       "version_minor": 0
      },
      "text/plain": [
       "VBox(children=(Dropdown(description='req_turning', options=(0, 1), style=DescriptionStyle(description_width='i…"
      ]
     },
     "metadata": {},
     "output_type": "display_data"
    }
   ],
   "source": [
    "all_widgets_dict, all_widgets = open_view()\n",
    "all_widgets"
   ]
  },
  {
   "cell_type": "code",
   "execution_count": 5,
   "metadata": {
    "ExecuteTime": {
     "end_time": "2023-05-18T08:39:04.653905Z",
     "start_time": "2023-05-18T08:39:04.650805Z"
    },
    "scrolled": false
   },
   "outputs": [
    {
     "data": {
      "application/vnd.jupyter.widget-view+json": {
       "model_id": "599dadf08a574639b3c65021fa3ccea3",
       "version_major": 2,
       "version_minor": 0
      },
      "text/plain": [
       "Output()"
      ]
     },
     "metadata": {},
     "output_type": "display_data"
    }
   ],
   "source": [
    "display(out)"
   ]
  }
 ],
 "metadata": {
  "kernelspec": {
   "display_name": "Python 3 (ipykernel)",
   "language": "python",
   "name": "python3"
  },
  "language_info": {
   "codemirror_mode": {
    "name": "ipython",
    "version": 3
   },
   "file_extension": ".py",
   "mimetype": "text/x-python",
   "name": "python",
   "nbconvert_exporter": "python",
   "pygments_lexer": "ipython3",
   "version": "3.9.7"
  },
  "varInspector": {
   "cols": {
    "lenName": 16,
    "lenType": 16,
    "lenVar": 40
   },
   "kernels_config": {
    "python": {
     "delete_cmd_postfix": "",
     "delete_cmd_prefix": "del ",
     "library": "var_list.py",
     "varRefreshCmd": "print(var_dic_list())"
    },
    "r": {
     "delete_cmd_postfix": ") ",
     "delete_cmd_prefix": "rm(",
     "library": "var_list.r",
     "varRefreshCmd": "cat(var_dic_list()) "
    }
   },
   "types_to_exclude": [
    "module",
    "function",
    "builtin_function_or_method",
    "instance",
    "_Feature"
   ],
   "window_display": false
  }
 },
 "nbformat": 4,
 "nbformat_minor": 4
}
