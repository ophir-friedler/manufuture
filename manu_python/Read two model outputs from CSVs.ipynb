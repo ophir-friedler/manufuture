{
 "cells": [
  {
   "cell_type": "markdown",
   "metadata": {},
   "source": [
    "# Link to model data"
   ]
  },
  {
   "cell_type": "code",
   "execution_count": 1,
   "metadata": {
    "ExecuteTime": {
     "end_time": "2023-04-27T07:47:00.868592Z",
     "start_time": "2023-04-27T07:47:00.861129Z"
    }
   },
   "outputs": [],
   "source": [
    "MODEL_A_GS_PATH = 'https://docs.google.com/spreadsheets/d/1KF1sLGA6D8sV6ckvpdsDrpVB9pfgPOSWW2qSzyG_zhQ/edit#gid=1989900327'\n",
    "MODEL_B_GS_PATH = 'https://docs.google.com/spreadsheets/d/1Xi1gQyf7hWSjmOvsf1My08YP5qaOM55D5kTfC0E_r2o/edit#gid=1989900327'\n",
    "\n",
    "\n"
   ]
  },
  {
   "cell_type": "markdown",
   "metadata": {},
   "source": [
    "# Support functions"
   ]
  },
  {
   "cell_type": "code",
   "execution_count": 2,
   "metadata": {
    "ExecuteTime": {
     "end_time": "2023-04-27T07:47:01.789563Z",
     "start_time": "2023-04-27T07:47:00.871062Z"
    },
    "pycharm": {
     "name": "#%%\n"
    }
   },
   "outputs": [],
   "source": [
    "# Support code\n",
    "import pandas as pd\n",
    "import ipywidgets as widgets\n",
    "from IPython.display import display, clear_output\n",
    "from datetime import datetime\n",
    "\n",
    "MODEL_A_GS_CSV_PATH = MODEL_A_GS_PATH.replace('/edit#gid=', '/export?format=csv&gid=')\n",
    "MODEL_B_GS_CSV_PATH = MODEL_B_GS_PATH.replace('/edit#gid=', '/export?format=csv&gid=')\n",
    "\n",
    "joint_models_df = None\n",
    "unique_values = {}\n",
    "\n",
    "all_widgets_dict = {}\n",
    "out = widgets.Output()\n",
    "\n",
    "def get_project_features(model_df): \n",
    "    model_columns = list(model_df.columns)\n",
    "    return model_columns[:model_columns.index('separator')]\n",
    "\n",
    "def get_ranking_columns(model_df):\n",
    "    model_columns = list(model_df.columns)\n",
    "    return model_columns[model_columns.index('separator')+1:]\n",
    "\n",
    "def join_two_model_dfs_to_one(model_a_df, model_b_df):\n",
    "    joint_models_df = pd.DataFrame()\n",
    "    project_features = get_project_features(model_a_df)\n",
    "    ranking_columns = get_ranking_columns(model_a_df)\n",
    "    grouped_a = model_a_df.groupby(project_features)\n",
    "    grouped_b = model_b_df.groupby(project_features)\n",
    "    if set(grouped_a.groups.keys()) != set(grouped_b.groups.keys()):\n",
    "        print(\"ERROR: models have different feature combinations\")\n",
    "        return None\n",
    "    for name_of_group_from_a, group_from_model_a in grouped_a:\n",
    "        group_from_model_b = grouped_b.get_group(name_of_group_from_a)\n",
    "        new_df = group_from_model_a.copy()\n",
    "        for ranking_column in ranking_columns:\n",
    "            new_df[ranking_column +\"_model_b\"] = group_from_model_b[ranking_column]\n",
    "        joint_models_df = pd.concat([joint_models_df, new_df], ignore_index=True)\n",
    "#         display(group_from_model_a)\n",
    "#         display(group_from_model_b)\n",
    "#         display(joint_df)\n",
    "#         return None\n",
    "    \n",
    "    return joint_models_df\n",
    "\n",
    "    \n",
    "    \n",
    "    \n",
    "def prepare_data(): \n",
    "    model_a_df = pd.read_csv(MODEL_A_GS_CSV_PATH)\n",
    "    model_b_df = pd.read_csv(MODEL_B_GS_CSV_PATH)\n",
    "    model_a_columns = list(model_a_df.columns)\n",
    "    model_b_columns = list(model_b_df.columns)\n",
    "    # Validate same columns\n",
    "    if not set(model_a_columns) == set(model_b_columns):\n",
    "        print(\"ERROR: models don't have the same features: \")\n",
    "        print(\"Model A: \" + str(set(model_a_columns)))\n",
    "        print(\"Model B: \" + str(set(model_b_columns)))\n",
    "        return None\n",
    "    \n",
    "    project_features = get_project_features(model_a_df)\n",
    "\n",
    "#     manufacturer_details = model_a_columns[model_a_columns.index('separator')+1:]\n",
    "    for column in project_features:\n",
    "        if set(model_a_df[column].unique()) != set(model_b_df[column].unique()):\n",
    "            print(\"ERROR: column \" + str(column) + \" values in model A is different from model B\")\n",
    "            return None\n",
    "        unique_values[column] = list(model_a_df[column].unique())\n",
    "    # print(unique_values)\n",
    "    joint_models_df = join_two_model_dfs_to_one(model_a_df, model_b_df)\n",
    "    return joint_models_df, unique_values\n",
    "\n",
    "def get_recs():\n",
    "    criteria_idx = True\n",
    "    for key in unique_values.keys():\n",
    "#         print(str(key) + ' = ' + str(all_widgets_dict[key].value))\n",
    "        criteria_idx = criteria_idx & (joint_models_df[key] == all_widgets_dict[key].value)\n",
    "    for key in all_widgets_dict.keys():\n",
    "        if hasattr(all_widgets_dict[key], 'value'):\n",
    "            print(str(key) + \":\" + str(all_widgets_dict[key].value))\n",
    "    ret_df = joint_models_df[criteria_idx][['manufacturer_name', 'post_id_manuf', 'predBidProb', 'manufacturer_name_model_b', 'post_id_manuf_model_b', 'predBidProb_model_b']]\n",
    "    ret_df = ret_df.rename(columns={'manufacturer_name':'A: manufacturer name', \n",
    "                            'post_id_manuf':'A: manufacturer ID', \n",
    "                           'predBidProb': 'A: predBidProb', \n",
    "                           'manufacturer_name_model_b': 'B: manufacturer name', \n",
    "                           'post_id_manuf_model_b' : 'B: manufacturer ID', \n",
    "                           'predBidProb_model_b' : 'B: predBidProb'})\n",
    "    return ret_df\n",
    "    \n",
    "def on_get_recs_button_clicked(b):\n",
    "    with out:\n",
    "        clear_output()\n",
    "        display(get_recs())\n",
    "        now = datetime.now()\n",
    "        current_time = now.strftime(\"%H:%M:%S\")\n",
    "        print(\"Last button click: {}.\".format(current_time))\n",
    "\n",
    "def open_view():    \n",
    "    all_widgets_dict = {}\n",
    "    for key in unique_values.keys():   \n",
    "        all_widgets_dict[key] = widgets.Dropdown(\n",
    "            style={'description_width': 'initial'},\n",
    "            options=unique_values[key],\n",
    "            value=unique_values[key][0],\n",
    "            description=key,\n",
    "            disabled=False,\n",
    "        )\n",
    "    all_widgets_dict['get_recs_button'] = widgets.Button(description=\"Get recs\")\n",
    "    all_widgets_dict['get_recs_button'].on_click(on_get_recs_button_clicked)\n",
    "    all_widgets = widgets.VBox(list(all_widgets_dict.values()))\n",
    "    return all_widgets_dict, all_widgets\n",
    "\n",
    "def show_get_recs_button(all_recs_button):\n",
    "    display(out)\n",
    "    display(all_recs_button)"
   ]
  },
  {
   "cell_type": "markdown",
   "metadata": {
    "pycharm": {
     "name": "#%% md\n"
    }
   },
   "source": [
    "## Read CSV "
   ]
  },
  {
   "cell_type": "code",
   "execution_count": 3,
   "metadata": {
    "ExecuteTime": {
     "end_time": "2023-04-27T07:47:08.988058Z",
     "start_time": "2023-04-27T07:47:01.790646Z"
    }
   },
   "outputs": [],
   "source": [
    "joint_models_df, unique_values = prepare_data()"
   ]
  },
  {
   "cell_type": "markdown",
   "metadata": {},
   "source": [
    "# Get recommendations"
   ]
  },
  {
   "cell_type": "code",
   "execution_count": 4,
   "metadata": {
    "ExecuteTime": {
     "end_time": "2023-04-27T07:47:09.023757Z",
     "start_time": "2023-04-27T07:47:08.989602Z"
    }
   },
   "outputs": [
    {
     "data": {
      "application/vnd.jupyter.widget-view+json": {
       "model_id": "3d8adaec96144f0aa84e6a4ff008a8ad",
       "version_major": 2,
       "version_minor": 0
      },
      "text/plain": [
       "VBox(children=(Dropdown(description='req_turning', options=(0, 1), style=DescriptionStyle(description_width='i…"
      ]
     },
     "metadata": {},
     "output_type": "display_data"
    }
   ],
   "source": [
    "all_widgets_dict, all_widgets = open_view()\n",
    "all_widgets"
   ]
  },
  {
   "cell_type": "code",
   "execution_count": 5,
   "metadata": {
    "ExecuteTime": {
     "end_time": "2023-04-27T07:47:09.028493Z",
     "start_time": "2023-04-27T07:47:09.025368Z"
    }
   },
   "outputs": [
    {
     "data": {
      "application/vnd.jupyter.widget-view+json": {
       "model_id": "38d003d083164bb4921bbb2af918557b",
       "version_major": 2,
       "version_minor": 0
      },
      "text/plain": [
       "Output()"
      ]
     },
     "metadata": {},
     "output_type": "display_data"
    }
   ],
   "source": [
    "display(out)"
   ]
  }
 ],
 "metadata": {
  "kernelspec": {
   "display_name": "Python 3 (ipykernel)",
   "language": "python",
   "name": "python3"
  },
  "language_info": {
   "codemirror_mode": {
    "name": "ipython",
    "version": 3
   },
   "file_extension": ".py",
   "mimetype": "text/x-python",
   "name": "python",
   "nbconvert_exporter": "python",
   "pygments_lexer": "ipython3",
   "version": "3.9.7"
  },
  "varInspector": {
   "cols": {
    "lenName": 16,
    "lenType": 16,
    "lenVar": 40
   },
   "kernels_config": {
    "python": {
     "delete_cmd_postfix": "",
     "delete_cmd_prefix": "del ",
     "library": "var_list.py",
     "varRefreshCmd": "print(var_dic_list())"
    },
    "r": {
     "delete_cmd_postfix": ") ",
     "delete_cmd_prefix": "rm(",
     "library": "var_list.r",
     "varRefreshCmd": "cat(var_dic_list()) "
    }
   },
   "types_to_exclude": [
    "module",
    "function",
    "builtin_function_or_method",
    "instance",
    "_Feature"
   ],
   "window_display": false
  }
 },
 "nbformat": 4,
 "nbformat_minor": 4
}
